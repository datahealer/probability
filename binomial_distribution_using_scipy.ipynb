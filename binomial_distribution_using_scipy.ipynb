{
 "cells": [
  {
   "cell_type": "markdown",
   "metadata": {},
   "source": [
    "# Binomial Distribution Using Scipy\n",
    "#### PMF: probability mass function & CDF: cumulative distribution function"
   ]
  },
  {
   "cell_type": "code",
   "execution_count": 1,
   "metadata": {},
   "outputs": [],
   "source": [
    "from scipy import stats as st\n",
    "import numpy as np\n",
    "import matplotlib.pyplot as plt\n",
    "import seaborn as sns"
   ]
  },
  {
   "cell_type": "markdown",
   "metadata": {},
   "source": [
    "### A manufacturer has 12% defect rate in production. The buyer decides to test 20 random pieces and will accept the supply if there are 2 or less defective pieces. What is the probability of getting accepted?"
   ]
  },
  {
   "cell_type": "code",
   "execution_count": 2,
   "metadata": {},
   "outputs": [
    {
     "data": {
      "text/plain": [
       "0.5631315224061949"
      ]
     },
     "execution_count": 2,
     "metadata": {},
     "output_type": "execute_result"
    }
   ],
   "source": [
    "# Assume the event of finding a defect piece is success\n",
    "# Given, number of sample : 20 & probability of success: 0.12\n",
    "# To find, probability of 2 or less successes\n",
    "st.binom.cdf(2, 20, 0.12)"
   ]
  },
  {
   "cell_type": "markdown",
   "metadata": {},
   "source": [
    "### A manufacturer has 12% defect rate in production. The buyer decides to test 20 random pieces and will accept the supply if there are exactly 2 defective pieces. What is the probability of getting accepted?"
   ]
  },
  {
   "cell_type": "code",
   "execution_count": 3,
   "metadata": {},
   "outputs": [
    {
     "data": {
      "text/plain": [
       "0.2740338370274878"
      ]
     },
     "execution_count": 3,
     "metadata": {},
     "output_type": "execute_result"
    }
   ],
   "source": [
    "# Assume the event of finding a defect piece is success\n",
    "# Given, number of sample : 20 & probability of success: 0.12\n",
    "# To find, probability of 2 (exact) successes\n",
    "st.binom.pmf(2, 20, 0.12)"
   ]
  },
  {
   "cell_type": "markdown",
   "metadata": {},
   "source": [
    "### A manufacturer has 12% defect rate in production. The buyer decides to test 20 random pieces and will accept the supply if there are more than 2 defective pieces. What is the probability of getting accepted?"
   ]
  },
  {
   "cell_type": "code",
   "execution_count": 4,
   "metadata": {},
   "outputs": [
    {
     "data": {
      "text/plain": [
       "0.4368684775938051"
      ]
     },
     "execution_count": 4,
     "metadata": {},
     "output_type": "execute_result"
    }
   ],
   "source": [
    "# Assume the event of finding a defect piece is success\n",
    "# Given, number of sample : 20 & probability of success: 0.12\n",
    "# To find, probability of getting more that 2 defective (2 excluded)\n",
    "st.binom.sf(2, 20, 0.12) # same as 1-st.binom.cdf(2, 20, 0.12)"
   ]
  },
  {
   "cell_type": "markdown",
   "metadata": {},
   "source": [
    "### A manufacturer has 12% defect rate in production. The buyer decides to test 20 random pieces. Plot the probabilities of getting 0,1,2,3 ... 20 defectives."
   ]
  },
  {
   "cell_type": "code",
   "execution_count": 5,
   "metadata": {},
   "outputs": [
    {
     "data": {
      "text/plain": [
       "array([ 0,  1,  2,  3,  4,  5,  6,  7,  8,  9, 10, 11, 12, 13, 14, 15, 16,\n",
       "       17, 18, 19, 20])"
      ]
     },
     "execution_count": 5,
     "metadata": {},
     "output_type": "execute_result"
    }
   ],
   "source": [
    "x_axis = np.arange(0,21)\n",
    "x_axis"
   ]
  },
  {
   "cell_type": "code",
   "execution_count": 6,
   "metadata": {},
   "outputs": [
    {
     "data": {
      "text/plain": [
       "array([7.75627936e-02, 2.11534892e-01, 2.74033837e-01, 2.24209503e-01,\n",
       "       1.29939598e-01, 5.67009156e-02, 1.93298576e-02, 5.27177935e-03,\n",
       "       1.16817838e-03, 2.12396069e-04, 3.18594103e-05, 3.94951367e-06,\n",
       "       4.03927535e-07, 3.38960169e-08, 2.31109206e-09, 1.26059567e-10,\n",
       "       5.37185655e-12, 1.72359034e-13, 3.91725077e-15, 5.62284799e-17,\n",
       "       3.83375999e-19])"
      ]
     },
     "execution_count": 6,
     "metadata": {},
     "output_type": "execute_result"
    }
   ],
   "source": [
    "y_axis = st.binom.pmf(x_axis, 20, 0.12)\n",
    "y_axis"
   ]
  },
  {
   "cell_type": "code",
   "execution_count": 7,
   "metadata": {
    "scrolled": true
   },
   "outputs": [
    {
     "data": {
      "image/png": "[encoded data removed]",
      "text/plain": [
       "<Figure size 432x288 with 1 Axes>"
      ]
     },
     "metadata": {
      "needs_background": "light"
     },
     "output_type": "display_data"
    }
   ],
   "source": [
    "sns.barplot(x=x_axis, y=y_axis)\n",
    "plt.show()"
   ]
  },
  {
   "cell_type": "markdown",
   "metadata": {},
   "source": [
    "### A manufacturer has 12% defect rate in production. The buyer decides to test 20 random pieces. Plot the probabilities of getting 0 or less, 1 or less, 2 or less ... 20 or less defectives."
   ]
  },
  {
   "cell_type": "code",
   "execution_count": 8,
   "metadata": {},
   "outputs": [
    {
     "data": {
      "text/plain": [
       "array([ 0,  1,  2,  3,  4,  5,  6,  7,  8,  9, 10, 11, 12, 13, 14, 15, 16,\n",
       "       17, 18, 19, 20])"
      ]
     },
     "execution_count": 8,
     "metadata": {},
     "output_type": "execute_result"
    }
   ],
   "source": [
    "x_axis = np.arange(0,21)\n",
    "x_axis"
   ]
  },
  {
   "cell_type": "code",
   "execution_count": 9,
   "metadata": {},
   "outputs": [
    {
     "data": {
      "text/plain": [
       "array([0.07756279, 0.28909769, 0.56313152, 0.78734103, 0.91728062,\n",
       "       0.97398154, 0.9933114 , 0.99858318, 0.99975135, 0.99996375,\n",
       "       0.99999561, 0.99999956, 0.99999996, 1.        , 1.        ,\n",
       "       1.        , 1.        , 1.        , 1.        , 1.        ,\n",
       "       1.        ])"
      ]
     },
     "execution_count": 9,
     "metadata": {},
     "output_type": "execute_result"
    }
   ],
   "source": [
    "y_axis = st.binom.cdf(x_axis, 20, 0.12)\n",
    "y_axis"
   ]
  },
  {
   "cell_type": "code",
   "execution_count": 10,
   "metadata": {},
   "outputs": [
    {
     "data": {
      "image/png": "[encoded data removed]",
      "text/plain": [
       "<Figure size 432x288 with 1 Axes>"
      ]
     },
     "metadata": {
      "needs_background": "light"
     },
     "output_type": "display_data"
    }
   ],
   "source": [
    "sns.barplot(x=x_axis, y=y_axis)\n",
    "plt.show()"
   ]
  },
  {
   "cell_type": "code",
   "execution_count": null,
   "metadata": {},
   "outputs": [],
   "source": []
  }
 ],
 "metadata": {
  "kernelspec": {
   "display_name": "Python 3",
   "language": "python",
   "name": "python3"
  },
  "language_info": {
   "codemirror_mode": {
    "name": "ipython",
    "version": 3
   },
   "file_extension": ".py",
   "mimetype": "text/x-python",
   "name": "python",
   "nbconvert_exporter": "python",
   "pygments_lexer": "ipython3",
   "version": "3.8.5"
  }
 },
 "nbformat": 4,
 "nbformat_minor": 4
}
