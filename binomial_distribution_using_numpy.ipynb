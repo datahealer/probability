{
 "cells": [
  {
   "cell_type": "markdown",
   "metadata": {},
   "source": [
    "# Binomial Distribution Using Numpy\n",
    "#### All the experiments in the examples below are based on real-time simulation. The result will vary in every run"
   ]
  },
  {
   "cell_type": "code",
   "execution_count": 1,
   "metadata": {},
   "outputs": [],
   "source": [
    "import numpy as np\n",
    "import matplotlib.pyplot as plt\n",
    "import seaborn as sns"
   ]
  },
  {
   "cell_type": "markdown",
   "metadata": {},
   "source": [
    "## Flip 1 coin with probability of geting HEAD 0.5"
   ]
  },
  {
   "cell_type": "code",
   "execution_count": 2,
   "metadata": {
    "scrolled": true
   },
   "outputs": [
    {
     "data": {
      "text/plain": [
       "1"
      ]
     },
     "execution_count": 2,
     "metadata": {},
     "output_type": "execute_result"
    }
   ],
   "source": [
    "np.random.binomial(1, 0.5)\n",
    "# in output 1 means head"
   ]
  },
  {
   "cell_type": "markdown",
   "metadata": {},
   "source": [
    "## Flip 2 coins with probability of geting HEAD 0.5 in all the coins"
   ]
  },
  {
   "cell_type": "code",
   "execution_count": 3,
   "metadata": {},
   "outputs": [
    {
     "data": {
      "text/plain": [
       "2"
      ]
     },
     "execution_count": 3,
     "metadata": {},
     "output_type": "execute_result"
    }
   ],
   "source": [
    "np.random.binomial(2, 0.5)\n",
    "# in output 0 means 0 heads, 1 means 1 heads, 2 means 2 heads"
   ]
  },
  {
   "cell_type": "markdown",
   "metadata": {},
   "source": [
    "## Flip 2 coins 100 times with probability of geting HEAD 0.5 in all the coins"
   ]
  },
  {
   "cell_type": "code",
   "execution_count": 4,
   "metadata": {},
   "outputs": [
    {
     "data": {
      "text/plain": [
       "array([0, 2, 1, 1, 0, 1, 1, 1, 1, 0, 1, 0, 1, 2, 1, 0, 1, 1, 2, 1, 1, 0,\n",
       "       0, 2, 0, 1, 0, 1, 1, 0, 2, 1, 1, 2, 1, 0, 2, 1, 1, 2, 0, 1, 1, 2,\n",
       "       2, 2, 1, 2, 1, 2, 1, 0, 1, 2, 0, 0, 0, 0, 0, 2, 0, 1, 0, 1, 0, 1,\n",
       "       1, 2, 0, 1, 2, 1, 1, 1, 0, 0, 1, 1, 1, 1, 2, 0, 2, 1, 1, 1, 0, 0,\n",
       "       0, 0, 1, 0, 0, 2, 2, 2, 1, 2, 1, 1])"
      ]
     },
     "execution_count": 4,
     "metadata": {},
     "output_type": "execute_result"
    }
   ],
   "source": [
    "two_coins = np.random.binomial(2, 0.5, 100)\n",
    "two_coins\n",
    "# in output 0 means 0 heads, 1 means 1 heads, 2 means 2 heads"
   ]
  },
  {
   "cell_type": "code",
   "execution_count": 5,
   "metadata": {
    "scrolled": true
   },
   "outputs": [
    {
     "data": {
      "image/png": "[encoded data removed]",
      "text/plain": [
       "<Figure size 432x288 with 1 Axes>"
      ]
     },
     "metadata": {},
     "output_type": "display_data"
    }
   ],
   "source": [
    "sns.set_theme(style=\"whitegrid\")\n",
    "sns.countplot(x=two_coins)\n",
    "plt.show()\n",
    "# Out of 100 observations, ≈50 times came 1H, and ≈25 times each came 0H & 2H"
   ]
  },
  {
   "cell_type": "markdown",
   "metadata": {},
   "source": [
    "## Flip 10 coins 1000 times with probability of geting HEAD 0.5 in all the coins"
   ]
  },
  {
   "cell_type": "code",
   "execution_count": 6,
   "metadata": {},
   "outputs": [
    {
     "data": {
      "image/png": "[encoded data removed]",
      "text/plain": [
       "<Figure size 432x288 with 1 Axes>"
      ]
     },
     "metadata": {},
     "output_type": "display_data"
    }
   ],
   "source": [
    "ten_coins = np.random.binomial(10, 0.5, 1000)\n",
    "sns.countplot(x=ten_coins)\n",
    "plt.show()\n",
    "# Out of 1000 observations with 10 coins : 250 times came 5H, and 200 times each came 4H & 6H.. etc."
   ]
  },
  {
   "cell_type": "markdown",
   "metadata": {},
   "source": [
    "## A manufacturer has 12% defect rate in production. The buyer decides to test 20 random pieces and will accept the supply if there are 2 or less defective pieces. What is the probability of getting accepted?"
   ]
  },
  {
   "cell_type": "code",
   "execution_count": 7,
   "metadata": {},
   "outputs": [
    {
     "data": {
      "text/plain": [
       "array([1, 2, 2, 0, 2, 1, 3, 1, 2, 2, 3, 2, 1, 0, 2, 2, 1, 2, 0, 0, 4, 3,\n",
       "       0, 0, 0, 2, 2, 1, 3, 5, 2, 1, 1, 4, 4, 2, 6, 4, 2, 2, 3, 4, 3, 2,\n",
       "       4, 3, 1, 2, 5, 2, 3, 3, 4, 1, 4, 3, 4, 1, 4, 2, 2, 2, 4, 2, 3, 2,\n",
       "       5, 0, 4, 1, 0, 1, 5, 2, 3, 3, 4, 2, 1, 3, 1, 2, 3, 2, 4, 2, 4, 2,\n",
       "       1, 4, 3, 0, 3, 0, 3, 0, 2, 3, 2, 5])"
      ]
     },
     "execution_count": 7,
     "metadata": {},
     "output_type": "execute_result"
    }
   ],
   "source": [
    "# finding a defect is the event of success here\n",
    "# 20: number of of samples\n",
    "# 0.12: is the probability of success\n",
    "# repeating the experiment for 100 times\n",
    "two_rej = np.random.binomial(20, 0.12, 100)\n",
    "two_rej"
   ]
  },
  {
   "cell_type": "code",
   "execution_count": 8,
   "metadata": {},
   "outputs": [
    {
     "data": {
      "image/png": "[encoded data removed]",
      "text/plain": [
       "<Figure size 432x288 with 1 Axes>"
      ]
     },
     "metadata": {},
     "output_type": "display_data"
    }
   ],
   "source": [
    "sns.countplot(x=two_rej)\n",
    "plt.show()\n",
    "# in 100 samples, P(0) is ≈7.75,  P(1) is ≈21.15, P(2) is ≈27.40"
   ]
  },
  {
   "cell_type": "code",
   "execution_count": null,
   "metadata": {},
   "outputs": [],
   "source": []
  }
 ],
 "metadata": {
  "kernelspec": {
   "display_name": "Python 3",
   "language": "python",
   "name": "python3"
  },
  "language_info": {
   "codemirror_mode": {
    "name": "ipython",
    "version": 3
   },
   "file_extension": ".py",
   "mimetype": "text/x-python",
   "name": "python",
   "nbconvert_exporter": "python",
   "pygments_lexer": "ipython3",
   "version": "3.8.5"
  }
 },
 "nbformat": 4,
 "nbformat_minor": 4
}
